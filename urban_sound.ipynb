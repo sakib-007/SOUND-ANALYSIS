{
  "nbformat": 4,
  "nbformat_minor": 0,
  "metadata": {
    "colab": {
      "name": "urban sound.ipynb",
      "provenance": []
    },
    "kernelspec": {
      "name": "python3",
      "display_name": "Python 3"
    },
    "language_info": {
      "name": "python"
    }
  },
  "cells": [
    {
      "cell_type": "code",
      "execution_count": null,
      "metadata": {
        "id": "tLugpbyDxCVO"
      },
      "outputs": [],
      "source": [
        "import os\n",
        "from torch.utils.data import Dataset\n",
        "import panda as pd\n",
        "import torchaudio"
      ]
    },
    {
      "cell_type": "code",
      "source": [
        "class UrbanSoundDataset(Dataset):\n",
        "\n",
        "    def __init__(self,\n",
        "                 annotations_file,\n",
        "                 audio_dir,\n",
        "                 transformation,\n",
        "                 target_sample_rate,\n",
        "                 num_samples):\n",
        "        self.annotations = pd.read_csv(annotations_file)\n",
        "        self.audio_dir = audio_dir\n",
        "        self.transformation = transformation\n",
        "        self.target_sample_rate = target_sample_rate\n",
        "        self.num_samples = num_samples\n",
        "\n",
        "    def __len__(self):\n",
        "        return len(self.annotations)\n",
        "\n",
        "    def __getitem__(self, index):\n",
        "        audio_sample_path = self._get_audio_sample_path(index)\n",
        "        label = self._get_audio_sample_label(index)\n",
        "        signal, sr = torchaudio.load(audio_sample_path)\n",
        "        signal = self._resample_if_necessary(signal, sr)\n",
        "        signal = self._mix_down_if_necessary(signal)\n",
        "        signal = self._cut_if_necessary(signal)\n",
        "        signal = self._right_pad_if_necessary(signal)\n",
        "        signal = self.transformation(signal)\n",
        "        return signal, label\n",
        "\n",
        "    def _cut_if_necessary(self, signal):\n",
        "        if signal.shape[1] > self.num_samples:\n",
        "            signal = signal[:, :self.num_samples]\n",
        "        return signal\n",
        "\n",
        "    def _right_pad_if_necessary(self, signal):\n",
        "        length_signal = signal.shape[1]\n",
        "        if length_signal < self.num_samples:\n",
        "            num_missing_samples = self.num_samples - length_signal\n",
        "            last_dim_padding = (0, num_missing_samples)\n",
        "            signal = torch.nn.functional.pad(signal, last_dim_padding)\n",
        "        return signal\n",
        "\n",
        "    def _resample_if_necessary(self, signal, sr):\n",
        "        if sr != self.target_sample_rate:\n",
        "            resampler = torchaudio.transforms.Resample(sr, self.target_sample_rate)\n",
        "            signal = resampler(signal)\n",
        "        return signal\n",
        "\n",
        "    def _mix_down_if_necessary(self, signal):\n",
        "        if signal.shape[0] > 1:\n",
        "            signal = torch.mean(signal, dim=0, keepdim=True)\n",
        "        return signal\n",
        "\n",
        "    def _get_audio_sample_path(self, index):\n",
        "        fold = f\"fold{self.annotations.iloc[index, 5]}\"\n",
        "        path = os.path.join(self.audio_dir, fold, self.annotations.iloc[\n",
        "            index, 0])\n",
        "        return path\n",
        "\n",
        "    def _get_audio_sample_label(self, index):\n",
        "        return self.annotations.iloc[index, 6]\n"
      ],
      "metadata": {
        "id": "T0zmNiwNxRpf"
      },
      "execution_count": null,
      "outputs": []
    },
    {
      "cell_type": "code",
      "source": [
        "ANNOTATIONS_FILE = \n",
        "AUDIO_DIR = \n",
        "SAMPLE_RATE = 16000\n",
        " NUM_SAMPLES = 22050\n",
        "\n",
        "mel_spectrogram = torchaudio.transfrom.MelSpectrogram(\n",
        "    sample_rate = SAMPLE_RATE\n",
        "    n_fft = 1024\n",
        "    hop_length = 512,\n",
        "    n_mels = 64\n",
        ")\n",
        "\n",
        "usd = UrbanSoundDataset(ANNOTATIONS_FILE,\n",
        "                            AUDIO_DIR,\n",
        "                            mel_spectrogram,\n",
        "                            SAMPLE_RATE,\n",
        "                            NUM_SAMPLES)\n",
        "    print(f\"There are {len(usd)} samples in the dataset.\")\n",
        "    signal, label = usd[1]\n"
      ],
      "metadata": {
        "id": "SdzrLCJH1bET"
      },
      "execution_count": null,
      "outputs": []
    }
  ]
}