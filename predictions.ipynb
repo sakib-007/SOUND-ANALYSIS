{
  "nbformat": 4,
  "nbformat_minor": 0,
  "metadata": {
    "colab": {
      "name": "predictions.ipynb",
      "provenance": [],
      "authorship_tag": "ABX9TyMUWFBnVsiONEkkC4Ar8rKK",
      "include_colab_link": true
    },
    "kernelspec": {
      "name": "python3",
      "display_name": "Python 3"
    },
    "language_info": {
      "name": "python"
    }
  },
  "cells": [
    {
      "cell_type": "markdown",
      "metadata": {
        "id": "view-in-github",
        "colab_type": "text"
      },
      "source": [
        "<a href=\"https://colab.research.google.com/github/sakib-007/SOUND-ANALYSIS/blob/main/predictions.ipynb\" target=\"_parent\"><img src=\"https://colab.research.google.com/assets/colab-badge.svg\" alt=\"Open In Colab\"/></a>"
      ]
    },
    {
      "cell_type": "code",
      "execution_count": null,
      "metadata": {
        "id": "W4VyjwWFCBOd"
      },
      "outputs": [],
      "source": [
        "import torch\n",
        "import torchaudio\n",
        "\n",
        "from cnn import CNNNetwork\n",
        "from urbansounddataset import UrbanSoundDataset\n",
        "from train import AUDIO_DIR, ANNOTATIONS_FILE, SAMPLE_RATE, NUM_SAMPLES"
      ]
    },
    {
      "cell_type": "code",
      "source": [
        "class_mapping = [\n",
        "    \"air_conditioner\",\n",
        "    \"car_horn\",\n",
        "    \"children_playing\",\n",
        "    \"dog_bark\",\n",
        "    \"drilling\",\n",
        "    \"engine_idling\",\n",
        "    \"gun_shot\",\n",
        "    \"jackhammer\",\n",
        "    \"siren\",\n",
        "    \"street_music\"\n",
        "]\n"
      ],
      "metadata": {
        "id": "muh2-u0HCJWj"
      },
      "execution_count": null,
      "outputs": []
    },
    {
      "cell_type": "code",
      "source": [
        "def predict(model, input, target, class_mapping):\n",
        "    model.eval()\n",
        "    with torch.no_grad():\n",
        "        predictions = model(input)\n",
        "        # Tensor (1, 10) -> [ [0.1, 0.01, ..., 0.6] ]\n",
        "        predicted_index = predictions[0].argmax(0)\n",
        "        predicted = class_mapping[predicted_index]\n",
        "        expected = class_mapping[target]\n",
        "    return predicted, expected\n",
        "\n"
      ],
      "metadata": {
        "id": "ZeWlDuQ5CMmi"
      },
      "execution_count": null,
      "outputs": []
    },
    {
      "cell_type": "code",
      "source": [
        " cnn = CNNNetwork()\n",
        "    state_dict = torch.load(\"\")\n",
        "    cnn.load_state_dict(state_dict)\n",
        "\n",
        "    \n",
        "    mel_spectrogram = torchaudio.transforms.MelSpectrogram(\n",
        "        sample_rate=SAMPLE_RATE,\n",
        "        n_fft=1024,\n",
        "        hop_length=512,\n",
        "        n_mels=64\n",
        "    )\n",
        "\n",
        "    usd = UrbanSoundDataset(ANNOTATIONS_FILE,\n",
        "                            AUDIO_DIR,\n",
        "                            mel_spectrogram,\n",
        "                            SAMPLE_RATE,\n",
        "                            NUM_SAMPLES,\n",
        "                            \"cpu\")\n",
        "\n",
        "\n",
        "    \n",
        "    input, target = usd[0][0], usd[0][1] \n",
        "    input.unsqueeze_(0)\n",
        "    predicted, expected = predict(cnn, input, target,\n",
        "                                  class_mapping)\n",
        "    print(f\"Predicted: '{predicted}', expected: '{expected}'\")"
      ],
      "metadata": {
        "id": "GVBtxHO9CRKg"
      },
      "execution_count": null,
      "outputs": []
    }
  ]
}